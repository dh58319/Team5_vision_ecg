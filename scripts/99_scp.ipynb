{
 "cells": [
  {
   "cell_type": "code",
   "execution_count": 32,
   "metadata": {},
   "outputs": [],
   "source": [
    "import re\n",
    "import numpy as np\n",
    "import pandas as pd\n",
    "import pandas as pd\n",
    "import numpy as np\n",
    "import re\n",
    "\n",
    "# Read the CSV files\n",
    "meta = pd.read_csv('/home/donghyun/workbench/results/annotation_files/ptbxl_database.csv')\n",
    "class_df = pd.read_csv('/home/donghyun/workbench/results/annotation_files/scp_statements.csv')\n",
    "\n",
    "# Extract column names from class_df\n",
    "column_names = class_df.iloc[:,0].values\n",
    "column_names = np.sort(column_names)\n",
    "\n",
    "result = pd.DataFrame(columns=column_names)\n",
    "result_data = []\n",
    "\n",
    "for scp_code in meta['scp_codes']:\n",
    "    values = re.findall(r'\\d+\\.\\d+', scp_code)\n",
    "    keys = re.findall(r'[A-Z]+', scp_code)\n",
    "    result_dict = {}\n",
    "\n",
    "    for key, value in zip(keys, values):\n",
    "        result_dict[key] = value\n",
    "\n",
    "    result_data.append(result_dict)\n",
    "\n",
    "result = pd.DataFrame(result_data)\n",
    "result = result.fillna(\"-\")\n",
    "result['ecg_id'] = meta['ecg_id']\n",
    "\n",
    "result.to_csv('scp_codes.csv', index=False)\n",
    "\n",
    "columns_with_mi = result.loc[:, result.columns.str.contains('MI')]\n",
    "columns_with_mi['ecg_id'] = result['ecg_id']\n",
    "columns_with_mi.to_csv('MI_annotation.csv', index=False)\n"
   ]
  },
  {
   "cell_type": "code",
   "execution_count": 22,
   "metadata": {},
   "outputs": [
    {
     "data": {
      "text/html": [
       "<div>\n",
       "<style scoped>\n",
       "    .dataframe tbody tr th:only-of-type {\n",
       "        vertical-align: middle;\n",
       "    }\n",
       "\n",
       "    .dataframe tbody tr th {\n",
       "        vertical-align: top;\n",
       "    }\n",
       "\n",
       "    .dataframe thead th {\n",
       "        text-align: right;\n",
       "    }\n",
       "</style>\n",
       "<table border=\"1\" class=\"dataframe\">\n",
       "  <thead>\n",
       "    <tr style=\"text-align: right;\">\n",
       "      <th></th>\n",
       "      <th>NAs</th>\n",
       "      <th>Values</th>\n",
       "    </tr>\n",
       "  </thead>\n",
       "  <tbody>\n",
       "    <tr>\n",
       "      <th>NORM</th>\n",
       "      <td>0</td>\n",
       "      <td>21799</td>\n",
       "    </tr>\n",
       "    <tr>\n",
       "      <th>LVOLT</th>\n",
       "      <td>0</td>\n",
       "      <td>21799</td>\n",
       "    </tr>\n",
       "    <tr>\n",
       "      <th>ILBBB</th>\n",
       "      <td>0</td>\n",
       "      <td>21799</td>\n",
       "    </tr>\n",
       "    <tr>\n",
       "      <th>LAE</th>\n",
       "      <td>0</td>\n",
       "      <td>21799</td>\n",
       "    </tr>\n",
       "    <tr>\n",
       "      <th>LAO</th>\n",
       "      <td>0</td>\n",
       "      <td>21799</td>\n",
       "    </tr>\n",
       "  </tbody>\n",
       "</table>\n",
       "</div>"
      ],
      "text/plain": [
       "       NAs  Values\n",
       "NORM     0   21799\n",
       "LVOLT    0   21799\n",
       "ILBBB    0   21799\n",
       "LAE      0   21799\n",
       "LAO      0   21799"
      ]
     },
     "execution_count": 22,
     "metadata": {},
     "output_type": "execute_result"
    }
   ],
   "source": [
    "# df = pd.DataFrame()\n",
    "# for col in result.columns:\n",
    "#     na_count = sum(result[col].isna())\n",
    "#     non_na_count = sum(~result[col].isna())\n",
    "#     df = df.append(pd.DataFrame({'NAs': na_count, 'Values': non_na_count}, index=[col]))\n",
    "\n",
    "# df = df.sort_values(by='Values', ascending=False)\n",
    "# df.head()\n",
    "\n",
    "# # result.to_csv('scp_codes.csv', index=False)"
   ]
  }
 ],
 "metadata": {
  "kernelspec": {
   "display_name": "ecg_env",
   "language": "python",
   "name": "python3"
  },
  "language_info": {
   "codemirror_mode": {
    "name": "ipython",
    "version": 3
   },
   "file_extension": ".py",
   "mimetype": "text/x-python",
   "name": "python",
   "nbconvert_exporter": "python",
   "pygments_lexer": "ipython3",
   "version": "3.8.6"
  },
  "orig_nbformat": 4
 },
 "nbformat": 4,
 "nbformat_minor": 2
}
